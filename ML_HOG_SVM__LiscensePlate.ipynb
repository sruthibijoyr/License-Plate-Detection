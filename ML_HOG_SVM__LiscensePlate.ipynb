{
  "nbformat": 4,
  "nbformat_minor": 0,
  "metadata": {
    "colab": {
      "name": "ML_HOG_SVM__LiscensePlate.ipynb",
      "provenance": []
    },
    "kernelspec": {
      "display_name": "Python 3.8.5 64-bit ('base': conda)",
      "language": "python",
      "name": "python385jvsc74a57bd0adf2ec702444e32a994788a972b5a9beaf34847875e7db4fb74006a65c84bb70"
    },
    "language_info": {
      "codemirror_mode": {
        "name": "ipython",
        "version": 3
      },
      "file_extension": ".py",
      "mimetype": "text/x-python",
      "name": "python",
      "nbconvert_exporter": "python",
      "pygments_lexer": "ipython3",
      "version": "3.8.5"
    }
  },
  "cells": [
    {
      "cell_type": "code",
      "metadata": {
        "id": "mlpjWfE1P-aB"
      },
      "source": [
        ""
      ],
      "execution_count": null,
      "outputs": []
    },
    {
      "cell_type": "code",
      "metadata": {
        "id": "dl9wG3h8d1aU"
      },
      "source": [
        "%matplotlib inline\n",
        "\n",
        "import pandas as pd\n",
        "import numpy as np\n",
        "from matplotlib import pyplot as plt\n",
        "import seaborn as sns\n",
        "import cv2\n",
        "import os\n",
        "import glob\n",
        "\n",
        "from PIL import Image\n",
        "from lxml import etree"
      ],
      "execution_count": null,
      "outputs": []
    },
    {
      "cell_type": "markdown",
      "metadata": {
        "id": "V6UooUyx4Aju"
      },
      "source": [
        "# New Section"
      ]
    },
    {
      "cell_type": "code",
      "metadata": {
        "id": "BUdN7YrIa2AV"
      },
      "source": [
        "def boundingBox(f):\n",
        "  tree = etree.parse(f)\n",
        "  for dim in tree.xpath(\"size\"):\n",
        "    width = int(dim.xpath(\"width\")[0].text)\n",
        "    height = int(dim.xpath(\"height\")[0].text)\n",
        "  for dim in tree.xpath(\"object/bndbox\"):\n",
        "    xmin = int(dim.xpath(\"xmin\")[0].text)\n",
        "    ymin = int(dim.xpath(\"ymin\")[0].text)\n",
        "    xmax = int(dim.xpath(\"xmax\")[0].text)\n",
        "    ymax = int(dim.xpath(\"ymax\")[0].text)\n",
        "  return [int(xmin), int(ymin),int(xmax), int(ymax)]"
      ],
      "execution_count": null,
      "outputs": []
    },
    {
      "cell_type": "code",
      "metadata": {
        "id": "7bQGRDThceau"
      },
      "source": [
        "img_dir = \"./db/images\"\n",
        "data_path = os.path.join(img_dir,'*g')\n",
        "files = glob.glob(data_path)\n",
        "files.sort()\n",
        "\n",
        "path = './db/annotations/'\n",
        "text_files = ['./db/annotations/'+f for f in sorted(os.listdir(path))]\n",
        "\n",
        "inputs = []\n",
        "n = len(files)\n",
        "\n",
        "for i in range(n):\n",
        "  image_file = files[i]\n",
        "  box_file = text_files[i]\n",
        "\n",
        "  im = Image.open(image_file)\n",
        "  bbox = boundingBox(box_file)\n",
        "\n",
        "  im = im.crop(bbox)\n",
        "  im = im.resize((150, 75))\n",
        "\n",
        "  inputs.append(np.array(im))"
      ],
      "execution_count": null,
      "outputs": []
    },
    {
      "cell_type": "code",
      "metadata": {
        "id": "3A984SFS480B"
      },
      "source": [
        ""
      ],
      "execution_count": null,
      "outputs": []
    },
    {
      "cell_type": "code",
      "metadata": {
        "id": "kL_oa2LX8mau"
      },
      "source": [
        "for i in range(3):\n",
        "  plt.imshow(inputs[i])\n",
        "  plt.show()"
      ],
      "execution_count": null,
      "outputs": []
    },
    {
      "cell_type": "code",
      "metadata": {
        "id": "W2WLXgmtY6la"
      },
      "source": [
        "bw_inputs = []\n",
        "for i in range(len(inputs)):\n",
        "  bw_inputs.append(cv2.cvtColor(inputs[i], cv2.COLOR_BGR2GRAY))\n",
        "bw_inputs = np.array(bw_inputs)"
      ],
      "execution_count": null,
      "outputs": []
    },
    {
      "cell_type": "code",
      "metadata": {
        "id": "QNwLu0w1fVs9"
      },
      "source": [
        "from skimage import data, transform, color\n",
        "from sklearn.feature_extraction.image import PatchExtractor\n",
        "\n",
        "# imgs_to_use = ['camera', 'text', 'coins', 'moon',\n",
        "#                'page', 'clock',\n",
        "#                'grass', 'gravel', 'brick']\n",
        "# images = [color.rgb2gray(getattr(data, name)())\n",
        "#           for name in imgs_to_use]\n",
        "images = []\n",
        "\n",
        "img1 = cv2.imread('./db/nolicenseplate.jpeg')\n",
        "img1 = cv2.cvtColor(img1, cv2.COLOR_BGR2GRAY)\n",
        "img2 = cv2.imread('./db/nolicenseplate2.jpeg')\n",
        "img2 = cv2.cvtColor(img2, cv2.COLOR_BGR2GRAY)\n",
        "images.append(img1)\n",
        "images.append(img2)"
      ],
      "execution_count": null,
      "outputs": []
    },
    {
      "cell_type": "code",
      "metadata": {
        "id": "kTdsw3v_-3wm"
      },
      "source": [
        "#i've basically added some more negative patches from the car images itself(stuff outside the bounding boxes) to avoid false positives.. seems to work\n",
        "for i in range(25):\n",
        "  image_file = files[i]\n",
        "  box_file = text_files[i]\n",
        "\n",
        "  im = Image.open(image_file)\n",
        "  bbox = boundingBox(box_file)\n",
        "\n",
        "  im1 = cv2.cvtColor(np.array(im.crop([0, 0, bbox[0], bbox[1]])), cv2.COLOR_BGR2GRAY)\n",
        "  im2 = cv2.cvtColor(np.array(im.crop([bbox[2], bbox[3], im.size[0], im.size[1]])), cv2.COLOR_BGR2GRAY)\n",
        "\n",
        "  if(im1.shape[0] > 75 and im1.shape[1] > 150):\n",
        "    images.append(im1)\n",
        "  if(im2.shape[0] > 75 and im2.shape[1] > 150):\n",
        "    images.append(im2)\n"
      ],
      "execution_count": null,
      "outputs": []
    },
    {
      "cell_type": "code",
      "metadata": {
        "id": "4J799Fg47xa7"
      },
      "source": [
        "def extract_patches(img, N, scale=1.0, patch_size=(75,150)):\n",
        "    # print(img.shape, scale)\n",
        "    # print(scale*np.array(patch_size))\n",
        "    # extracted_patch_size = tuple((scale * np.array(patch_size)).astype(int))\n",
        "    extractor = PatchExtractor(patch_size=patch_size,\n",
        "                               max_patches=N, random_state=0)\n",
        "    patches = extractor.transform(img[np.newaxis])\n",
        "    if scale != 1:\n",
        "        patches = np.array([transform.resize(patch, patch_size)\n",
        "                            for patch in patches])\n",
        "    return patches\n",
        "\n",
        "negative_patches = np.vstack([extract_patches(im, 500, scale)\n",
        "                              for im in images for scale in [1.0, 2.0]])"
      ],
      "execution_count": null,
      "outputs": []
    },
    {
      "cell_type": "code",
      "metadata": {
        "id": "IUK_txu2XE__"
      },
      "source": [
        "negative_patches.shape"
      ],
      "execution_count": null,
      "outputs": []
    },
    {
      "cell_type": "code",
      "metadata": {
        "id": "y9ezDuNw29U6"
      },
      "source": [
        "bw_inputs.shape"
      ],
      "execution_count": null,
      "outputs": []
    },
    {
      "cell_type": "code",
      "metadata": {
        "id": "bCNtYGhshprq"
      },
      "source": [
        "from skimage.feature import hog  \n",
        "from itertools import chain\n",
        "\n",
        "X = np.array([im for im in chain(bw_inputs, negative_patches)])"
      ],
      "execution_count": null,
      "outputs": []
    },
    {
      "cell_type": "code",
      "metadata": {
        "id": "Xx-a2zbB9hk8"
      },
      "source": [
        "y = np.zeros(X.shape[0])\n",
        "y[:433] = 1"
      ],
      "execution_count": null,
      "outputs": []
    },
    {
      "cell_type": "code",
      "metadata": {
        "id": "_NdvlvuCVYf5"
      },
      "source": [
        "from sklearn.model_selection import train_test_split\n",
        "X_train, X_test, y_train, y_test = train_test_split(X, y, test_size=0.05, random_state=21)"
      ],
      "execution_count": null,
      "outputs": []
    },
    {
      "cell_type": "code",
      "metadata": {
        "id": "vAoUp_tfJHUj"
      },
      "source": [
        "X_train_hog = [hog(x) for x in X_train]\n",
        "X_test_hog = [hog(x) for x in X_test]\n",
        "\n",
        "X_train_hog = np.array(X_train_hog)\n",
        "X_test_hog = np.array(X_test_hog)"
      ],
      "execution_count": null,
      "outputs": []
    },
    {
      "cell_type": "code",
      "metadata": {
        "id": "f864rl61Jm94"
      },
      "source": [
        "X_train_hog.shape"
      ],
      "execution_count": null,
      "outputs": []
    },
    {
      "cell_type": "code",
      "metadata": {
        "id": "iERLQCk7Vjon"
      },
      "source": [
        "from sklearn.svm import LinearSVC\n",
        "from sklearn.model_selection import GridSearchCV \n",
        "\n",
        "grid = GridSearchCV(LinearSVC(dual=False), {'C': [1.0, 2.0, 4.0, 8.0]},cv=3)\n",
        "grid.fit(X_train_hog, y_train)\n",
        "grid.best_score_"
      ],
      "execution_count": null,
      "outputs": []
    },
    {
      "cell_type": "code",
      "metadata": {
        "id": "QjTgPolAVnyA"
      },
      "source": [
        "model = grid.best_estimator_\n",
        "model.fit(X_train_hog, y_train)"
      ],
      "execution_count": null,
      "outputs": []
    },
    {
      "cell_type": "code",
      "metadata": {
        "id": "X-LvjuHQ49qA"
      },
      "source": [
        "for i in range(len(X_test)):\n",
        "  fds = X_test_hog[i].reshape(1, -1)\n",
        "  pred = model.predict(fds)\n",
        "  if(pred == 1):\n",
        "    plt.imshow(X_test[i])\n",
        "    plt.show()"
      ],
      "execution_count": null,
      "outputs": []
    },
    {
      "cell_type": "code",
      "metadata": {
        "id": "jBGIfEma6AUf"
      },
      "source": [
        "camera = color.rgb2gray(getattr(data, 'camera')())\n",
        "plt.imshow(camera)\n",
        "plt.show()"
      ],
      "execution_count": null,
      "outputs": []
    },
    {
      "cell_type": "code",
      "metadata": {
        "id": "u1vFOIeKc4bu"
      },
      "source": [
        "# Intersection Over Union [ratio of I/U]\n",
        "def bb_intersection_over_union(boxA, boxB):\n",
        "    # determine the (x, y)-coordinates of the intersection rectangle\n",
        "    xA = max(boxA[0], boxB[0])\n",
        "    yA = max(boxA[1], boxB[1])\n",
        "    xB = min(boxA[2], boxB[2])\n",
        "    yB = min(boxA[3], boxB[3])\n",
        "    # compute the area of intersection rectangle\n",
        "    interArea = max(0, xB - xA + 1) * max(0, yB - yA + 1)\n",
        "    # compute the area of both the prediction and ground-truth\n",
        "    # rectangles\n",
        "    boxAArea = (boxA[2] - boxA[0] + 1) * (boxA[3] - boxA[1] + 1)\n",
        "    boxBArea = (boxB[2] - boxB[0] + 1) * (boxB[3] - boxB[1] + 1)\n",
        "    # compute the intersection over union by taking the intersection\n",
        "    # area and dividing it by the sum of prediction + ground-truth\n",
        "    # areas - the interesection area\n",
        "    iou = interArea / float(boxAArea + boxBArea - interArea)\n",
        "    # return the intersection over union value\n",
        "    return iou\n",
        "\n",
        "def plot_scores_IOU(iou):\n",
        "    no_of_items = range(43);\n",
        "    thresh = [0.5 for i in range(43)];\n",
        "    plt.plot(no_of_items, iou, 'g', label='IOU')\n",
        "    plt.plot(no_of_items, thresh, 'b', label=\"threshold\")\n",
        "    plt.title('IOU Scores')\n",
        "    plt.legend()\n",
        "    plt.show()\n",
        "    \n"
      ],
      "execution_count": null,
      "outputs": []
    },
    {
      "cell_type": "code",
      "metadata": {
        "id": "JMOdBNIAoQRk"
      },
      "source": [
        "#got this from the internet\n",
        "def non_max_suppression_slow(boxes, overlapThresh):\n",
        "\t# if there are no boxes, return an empty list\n",
        "\tif len(boxes) == 0:\n",
        "\t\treturn []\n",
        "\t# initialize the list of picked indexes\n",
        "\tpick = []\n",
        "\t# grab the coordinates of the bounding boxes\n",
        "\tx1 = boxes[:,0]\n",
        "\ty1 = boxes[:,1]\n",
        "\tx2 = boxes[:,2]\n",
        "\ty2 = boxes[:,3]\n",
        "\t# compute the area of the bounding boxes and sort the bounding\n",
        "\t# boxes by the bottom-right y-coordinate of the bounding box\n",
        "\tarea = (x2 - x1 + 1) * (y2 - y1 + 1)\n",
        "\tidxs = np.argsort(y2)\n",
        "  # keep looping while some indexes still remain in the indexes\n",
        "\t# list\n",
        "\twhile len(idxs) > 0:\n",
        "\t\t# grab the last index in the indexes list, add the index\n",
        "\t\t# value to the list of picked indexes, then initialize\n",
        "\t\t# the suppression list (i.e. indexes that will be deleted)\n",
        "\t\t# using the last index\n",
        "\t\tlast = len(idxs) - 1\n",
        "\t\ti = idxs[last]\n",
        "\t\tpick.append(i)\n",
        "\t\tsuppress = [last]\n",
        "  # loop over all indexes in the indexes list\n",
        "\t\tfor pos in range(0, last):\n",
        "\t\t\t# grab the current index\n",
        "\t\t\tj = idxs[pos]\n",
        "\t\t\t# find the largest (x, y) coordinates for the start of\n",
        "\t\t\t# the bounding box and the smallest (x, y) coordinates\n",
        "\t\t\t# for the end of the bounding box\n",
        "\t\t\txx1 = max(x1[i], x1[j])\n",
        "\t\t\tyy1 = max(y1[i], y1[j])\n",
        "\t\t\txx2 = min(x2[i], x2[j])\n",
        "\t\t\tyy2 = min(y2[i], y2[j])\n",
        "\t\t\t# compute the width and height of the bounding box\n",
        "\t\t\tw = max(0, xx2 - xx1 + 1)\n",
        "\t\t\th = max(0, yy2 - yy1 + 1)\n",
        "\t\t\t# compute the ratio of overlap between the computed\n",
        "\t\t\t# bounding box and the bounding box in the area list\n",
        "\t\t\toverlap = float(w * h) / area[j]\n",
        "\t\t\t# if there is sufficient overlap, suppress the\n",
        "\t\t\t# current bounding box\n",
        "\t\t\tif overlap > overlapThresh:\n",
        "\t\t\t\tsuppress.append(pos)\n",
        "\t\t# delete all indexes from the index list that are in the\n",
        "\t\t# suppression list\n",
        "\t\tidxs = np.delete(idxs, suppress)\n",
        "\t# return only the bounding boxes that were picked\n",
        "\treturn boxes[pick]"
      ],
      "execution_count": null,
      "outputs": []
    },
    {
      "cell_type": "code",
      "metadata": {
        "id": "_FHuOKiJWK93"
      },
      "source": [
        "iou2 = []\n",
        "for k in range(400):\n",
        "  test_img = Image.open(files[k])\n",
        "  box_file = text_files[k]\n",
        "  bbox = boundingBox(box_file)\n",
        "  pick = []\n",
        "\n",
        "  for scale in range(2,15):\n",
        "    boxes = []\n",
        "    w, h = test_img.size\n",
        "    col_inc = h//(scale*2)\n",
        "    row_inc = w//scale\n",
        "\n",
        "    image = np.array(test_img)\n",
        "    for i in range(0, w, max(10, row_inc)):\n",
        "      for j in range(0, h, max(10, col_inc)):\n",
        "        if i+row_inc <= w and j+col_inc <= h:\n",
        "          test = test_img.crop((i, j, i+row_inc, j+col_inc))\n",
        "          test = test.resize((150, 75))\n",
        "\n",
        "          window = cv2.cvtColor(np.array(test), cv2.COLOR_BGR2GRAY)\n",
        "          window = hog(window)\n",
        "          window = window.reshape(1,-1)\n",
        "          pred = model.predict(window)\n",
        "\n",
        "          if pred == 1:\n",
        "            box = [i, j, i+row_inc, j+col_inc]\n",
        "            boxes.append(box)\n",
        "\n",
        "    boxes = np.array(boxes)\n",
        "    nms = non_max_suppression_slow(boxes, 0.3)\n",
        "    for box in nms:\n",
        "      pick.append(box)\n",
        "    if(len(pick) > 0):\n",
        "      break\n",
        "\n",
        "  max_iou = 0\n",
        "  for box in pick:\n",
        "    iou = bb_intersection_over_union(box, bbox)\n",
        "    if iou > max_iou:\n",
        "      best = box\n",
        "      max_iou = iou\n",
        "\n",
        "    x1, y1, x2, y2 = box\n",
        "    image = cv2.rectangle(image, (x1, y1, x2-x1, y2-y1), (255, 0, 0))\n",
        "  print(k + 1, max_iou)\n",
        "  iou2.append(max_iou)\n",
        "    \n",
        "\n",
        "  plt.imshow(image)\n",
        "  plt.show()"
      ],
      "execution_count": null,
      "outputs": []
    },
    {
      "cell_type": "code",
      "metadata": {
        "id": "7uChDvPAOQcr"
      },
      "source": [
        "print(bb_intersection_over_union((220, 120, 435, 170), bbox))"
      ],
      "execution_count": null,
      "outputs": []
    },
    {
      "cell_type": "code",
      "metadata": {
        "id": "rThLI225Qrii"
      },
      "source": [
        "def plot_scores_IOU(iou):\n",
        "    no_of_items = range(400);\n",
        "    thresh = [0.5 for i in range(400)];\n",
        "    plt.plot(no_of_items, iou, 'g', label='IOU')\n",
        "    plt.plot(no_of_items, thresh, 'b', label=\"threshold\")\n",
        "    plt.title('IOU Scores')\n",
        "    plt.legend()\n",
        "    plt.show()"
      ],
      "execution_count": null,
      "outputs": []
    },
    {
      "cell_type": "code",
      "metadata": {
        "id": "jcxNq8if-WaP"
      },
      "source": [
        "plot_scores_IOU(iou2)"
      ],
      "execution_count": null,
      "outputs": []
    },
    {
      "cell_type": "code",
      "metadata": {
        "id": "RN7are-W-WaR"
      },
      "source": [
        ""
      ],
      "execution_count": null,
      "outputs": []
    }
  ]
}